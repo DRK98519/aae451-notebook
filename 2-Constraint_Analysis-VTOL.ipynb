{
 "cells": [
  {
   "cell_type": "markdown",
   "metadata": {},
   "source": [
    "# Constraint Analysis\n",
    "\n",
    "* This notebooks shows you how to create a constraint analysis diagram. The numbers here are rough estimates. You should further refine and verify these numbers with your team. You may wish to add additional constraints, or remove existing constraints, to represent the reuqirements in the RFP.\n",
    "\n",
    "## Definitions\n",
    "* Thrust to Weight Ratio: Sea-level static thrust/ Maximum takeoff weight\n",
    "* Wing Loading: Maximum takeoff weight / wing area\n",
    "\n",
    "## Why use Casadi?\n",
    "* Automatic differentiation (computes gradients for you)\n",
    "* Overkill for this application, but can be used in later stages of your design cycle when optimizations get more complex"
   ]
  },
  {
   "cell_type": "code",
   "execution_count": 1,
   "metadata": {},
   "outputs": [],
   "source": [
    "import casadi as ca\n",
    "import numpy as np\n",
    "import matplotlib.pyplot as plt\n",
    "plt.rcParams['figure.figsize'] = (15, 7)  # makes figures larger by default"
   ]
  },
  {
   "cell_type": "markdown",
   "metadata": {},
   "source": [
    "### Master Equation for Jet\n",
    "\n",
    "See Mattingly Chapter 2, and Loftin Chapter 7.\n",
    "\n",
    "$$\\frac{T}{W} = \\frac{\\beta}{\\alpha} \\left\\{\n",
    "    \\frac{q}{\\beta}\\left[\n",
    "        \\frac{C_{D_0} + C_{D_C}}{W/S} + \\frac{1}{\\pi AR e} \\left(\\frac{n \\beta}{q}\\right)^2 \\frac{W}{S}\n",
    "    \\right]\n",
    "    + \\frac{1}{V} \\frac{dh}{dt} + \\frac{1}{g} \\frac{dV}{dt}\n",
    "    \\right\\}$$"
   ]
  },
  {
   "cell_type": "code",
   "execution_count": 2,
   "metadata": {},
   "outputs": [],
   "source": [
    "def T_W_cruise(W_S):\n",
    "    # cruise flight, master equation\n",
    "\n",
    "    beta = 1  # weight fraction (current weight/gross weight), []\n",
    "    AR = 5  # aspect ratio, []\n",
    "    g = 9.8 # accel of gravity, [m/s^2]\n",
    "    V = 240 # cruise velocity (0.7 Mach), [m/s]\n",
    "    rho = 0.4135 # air density at service ceiling of 10,000 m, [kg/m^3]\n",
    "    q = 0.5*rho*V**2  # dynamic pressure at cruise\n",
    "    alpha = 0.3 # engine lapse rate (thrust/ thrust sea level), []\n",
    "    e = 0.7 # oswald efficiency factor\n",
    "    V_climb = 0 # climb rate at service ceiling, [m/s]\n",
    "    n = 1 # load_factor (L/W), 1 when in steady level flight, >1 when turning, []\n",
    "    CD0 = 0.02 # Parasite Drag Coefficient, []\n",
    "    CDC = 0  # Compressibility Drag Coefficient, []\n",
    "    accel = 0  # acceleration, [m/s^2]\n",
    "    pi = np.pi # constants from numpy\n",
    "\n",
    "    # required thrust to weight\n",
    "    return (beta/alpha)*(\n",
    "        (q/beta)*(\n",
    "            (CD0 + CDC)/W_S\n",
    "            + (1/(pi*AR*e))*(n*beta/q)**2*(W_S)\n",
    "        )\n",
    "        + (1/V)*V_climb + (1/g)*accel\n",
    "    )"
   ]
  },
  {
   "cell_type": "markdown",
   "metadata": {},
   "source": [
    "## Takeoff Distance for V/STOL\n",
    "\n",
    "From Kohlman, page 83\n",
    "$$ S_g = \\left[\\dfrac{W}{\\sigma S C_{L_{TO}}} \\right] \\frac{1}{\\frac{T}{W}} \\dfrac{1}{g \\rho_0}$$"
   ]
  },
  {
   "cell_type": "markdown",
   "metadata": {},
   "source": [
    "This can be rearranged to:\n",
    "$$ \\dfrac{T}{W} = \\left[\\dfrac{\\frac{W}{S}}{\\sigma C_{L_{TO}}} \\right]  \\dfrac{1}{S_g g \\rho_0}$$"
   ]
  },
  {
   "cell_type": "code",
   "execution_count": 3,
   "metadata": {},
   "outputs": [],
   "source": [
    "def T_W_takeoff_distance(W_S):\n",
    "    # stol jet takeoff, non-vectored thrust\n",
    "    # kohlman, pg. 83\n",
    "    CL_TO = 1.8  # lift coefficient at take-off, []\n",
    "    rho = 1.225  # air density at sea level, [kg/m^3]\n",
    "    sigma = 1  # Area_exit / Area_rotor, []\n",
    "    Sg_min = 305  # minimum takeoff distance, [m], STOL definition https://en.wikipedia.org/wiki/STOL\n",
    "    g = 9.8 # accel of gravity, [m/s^2]\n",
    "    # reqtured thrust to weight\n",
    "    return (W_S/(sigma*CL_TO))*(1/(Sg_min*g*rho))"
   ]
  },
  {
   "cell_type": "markdown",
   "metadata": {},
   "source": [
    "## Takeoff Distance for V/STOL with Thrust Vectoring\n",
    "\n",
    "$$ S_{g\\theta} = S_g \\sqrt{1 - (T/W)^2} $$\n",
    "\n",
    "Where $S_{g\\theta}$ is the takeoff distance when optimally thrust vectoring, and $S_g$ is the takeoff distance without thrust vectoring."
   ]
  },
  {
   "cell_type": "code",
   "execution_count": 4,
   "metadata": {},
   "outputs": [
    {
     "data": {
      "text/latex": [
       "$\\displaystyle \\frac{T}{W} = \\frac{W}{S} \\sqrt{\\frac{1}{CL_{TO}^{2} S_{go}^{2} g^{2} \\rho_{0}^{2} \\sigma^{2} + \\frac{W}{S}^{2}}}$"
      ],
      "text/plain": [
       "Eq(\\frac{T}{W}, \\frac{W}{S}*sqrt(1/(CL_{TO}**2*S_{go}**2*g**2*rho_0**2*sigma**2 + \\frac{W}{S}**2)))"
      ]
     },
     "execution_count": 4,
     "metadata": {},
     "output_type": "execute_result"
    }
   ],
   "source": [
    "import sympy\n",
    "theta = sympy.symbols('theta')\n",
    "T_W = sympy.symbols('\\\\frac{T}{W}')\n",
    "W_S = sympy.symbols('\\\\frac{W}{S}')\n",
    "S_g = sympy.symbols('S_g')\n",
    "S_go = sympy.symbols('S_{go}')\n",
    "\n",
    "CL_TO = sympy.symbols('CL_{TO}')\n",
    "g = sympy.symbols('g')\n",
    "sigma = sympy.symbols('sigma')\n",
    "rho_0 = sympy.symbols('rho_0')\n",
    "\n",
    "eq1 = S_go - S_g*sympy.sqrt(1 - T_W**2)  # optimal thrust vectoring angle\n",
    "eq2 = S_g - W_S/(sigma*CL_TO*g*rho_0*T_W)\n",
    "S_go_sol = sympy.solve([eq1, eq2], [S_g, T_W], dict=True)[0][T_W]\n",
    "sympy.Eq(T_W, S_go_sol)"
   ]
  },
  {
   "cell_type": "code",
   "execution_count": 5,
   "metadata": {},
   "outputs": [],
   "source": [
    "### Takeoff Distance for V/STOL with Thrust Vectoring\n",
    "\n",
    "def T_W_takeoff_distance_vectored(W_S):\n",
    "    # stol jet takeoff, non-vectored thrust\n",
    "    # kohlman, pg. 83\n",
    "    CL_TO = 1.8  # lift coefficient at take-off, []\n",
    "    rho_0 = 1.225  # air density at sea level, [kg/m^3]\n",
    "    sigma = 1  # Area_exit / Area_rotor, []\n",
    "    Sg_min = 305  # minimum takeoff distance, [m], STOL definition https://en.wikipedia.org/wiki/STOL\n",
    "    g = 9.8 # accel of gravity, [m/s^2]\n",
    "    # reqtured thrust to weight\n",
    "    return W_S*((CL_TO*Sg_min*g*rho_0*sigma)**2 + W_S**2)**(-0.5)"
   ]
  },
  {
   "cell_type": "markdown",
   "metadata": {},
   "source": [
    "## Landing"
   ]
  },
  {
   "cell_type": "code",
   "execution_count": 6,
   "metadata": {},
   "outputs": [],
   "source": [
    "def W_S_landing(T_W):\n",
    "    S_g = 305\n",
    "    g = 9.8\n",
    "    rho = 1.225\n",
    "    C_D = 1 # should do drag build up\n",
    "    CL_land = 2\n",
    "    mu = 0.15\n",
    "    beta = 0.5\n",
    "    W_S = S_g*g*rho*C_D/(beta*np.log(1 + (1.15)**2*C_D/(CL_land*mu*beta)))\n",
    "    # returns W_S\n",
    "    return W_S*np.ones(T_W.shape)"
   ]
  },
  {
   "cell_type": "markdown",
   "metadata": {},
   "source": [
    "## Hover"
   ]
  },
  {
   "cell_type": "code",
   "execution_count": 7,
   "metadata": {},
   "outputs": [],
   "source": [
    "def T_W_hover(W_S):\n",
    "    T_W_hover = 1.2\n",
    "    # returns T_W\n",
    "    return T_W_hover*np.ones(W_S.shape)"
   ]
  },
  {
   "cell_type": "markdown",
   "metadata": {},
   "source": [
    "### Optimization"
   ]
  },
  {
   "cell_type": "code",
   "execution_count": 8,
   "metadata": {},
   "outputs": [],
   "source": [
    "def solve(t_w_constraints, w_s_constraints):\n",
    "    \"\"\"\n",
    "    Takes a dictionary of functions and then solves the constraint analysis problem\n",
    "    \"\"\"\n",
    "    \n",
    "    # declare symbolic variables for the design vector we are solving for\n",
    "    W_S = ca.SX.sym('W_S') # wing loading, weight/(wing area)\n",
    "    T_W = ca.SX.sym('T_W') # thrust to weight\n",
    "    n_constraints = len(t_w_constraints) + len(w_s_constraints)\n",
    "    \n",
    "    # assemble constraints\n",
    "    constraints = [T_W - f(W_S) for f in t_w_constraints] + [f(T_W) - W_S for f in w_s_constraints]\n",
    "    \n",
    "    solver = ca.nlpsol(\n",
    "        'problem',  # name\n",
    "        'ipopt',  # solver\n",
    "        {  # problem details\n",
    "            'x': ca.vertcat(W_S, T_W),  # decision variables/ design vector\n",
    "            'f': T_W - 1e-6*W_S,  # objective function, minimize thrust/weight and maximize wing loading (keep weight low)\n",
    "            'g': ca.vertcat(*constraints)  # constraints\n",
    "        },\n",
    "        {  # solver options\n",
    "            'print_time': 0,\n",
    "            'ipopt': {\n",
    "                'sb': 'yes',\n",
    "                'print_level': 0,\n",
    "            }\n",
    "        }\n",
    "    )\n",
    "\n",
    "    # Solve the problem\n",
    "    res = solver(\n",
    "        x0=[3000, 0.5], # initial guess for (W_S, P_W)\n",
    "        lbg=[0]*n_constraints,  # lower bound on constraints\n",
    "        ubg=[ca.inf]*n_constraints,  # upper bound on constraints\n",
    "        lbx=[0, 0],  # lower bound on state\n",
    "        ubx=[6000, 2],  # upper bound on state\n",
    "    )\n",
    "    stats = solver.stats()\n",
    "    \n",
    "    # If the solver failed, raise an exception\n",
    "    if not stats['success']:\n",
    "        raise RuntimeError(stats['return_status'])\n",
    "    return {\n",
    "        'W_S': float(res['x'][0]),\n",
    "        'T_W': float(res['x'][1]),\n",
    "    }"
   ]
  },
  {
   "cell_type": "code",
   "execution_count": 9,
   "metadata": {},
   "outputs": [],
   "source": [
    "def constraint_analysis(t_w_funcs, w_s_funcs):\n",
    "    \"\"\"\n",
    "    The main function that creates functions, solves the optimization problem, and then plots the constraint\n",
    "    analysis diagram with the optimal design point labelled.\n",
    "    \n",
    "    t_w_funcs: A list of functions that compute required thrust to weight as a function of wing loading\n",
    "    \n",
    "    w_s_funcs: A list of functions that compute required wing loading as a function of thrust to weight\n",
    "    \"\"\"\n",
    "    g = 9.8\n",
    "    m_S_max = 800  # maximum wing loading plotted [kg/m^2]\n",
    "    T_W_max = 2    # maximum thrust to weight plotted []\n",
    "    \n",
    "    # note it is common to express Wing Loading as [kg/m^2], so we will convert the units here\n",
    "    m_S_val = np.linspace(1e-3, m_S_max, 1000)  # wing loading in kg/m^2\n",
    "    W_S_val = m_S_val*g  # wing loading in N/m^2\n",
    "    T_W_val = np.linspace(0, T_W_max, 1000)\n",
    "    \n",
    "    for f in t_w_funcs:\n",
    "        name = f.__name__\n",
    "        plt.plot(W_S_val/g, f(W_S_val), label=name)\n",
    " \n",
    "    for f in w_s_funcs:\n",
    "        name = f.__name__\n",
    "        plt.plot(f(T_W_val)/g, T_W_val, label=name)\n",
    "\n",
    "    plt.xlabel('Wing Loading, [kg/m^2]')\n",
    "    plt.ylabel('Thrust to Weight Ratio, []')\n",
    "    plt.grid()\n",
    "    plt.title('Constraint Analysis')\n",
    "\n",
    "    # existing aircraft\n",
    "    def plot_aircraft(m_W, T_W, name):\n",
    "        plt.text(m_W, T_W, 'x')\n",
    "        plt.text(m_W+5, T_W + 0.05, name, color='blue', alpha=0.5)\n",
    "        \n",
    "        \n",
    "    # https://en.wikipedia.org/wiki/McDonnell_Douglas_AV-8B_Harrier_II\n",
    "    plot_aircraft(14100/22.61, (105e3/g)/14100, 'Harrier') # max takeoff weight\n",
    "\n",
    "    # https://en.wikipedia.org/wiki/Lockheed_Martin_F-35_Lightning_II    \n",
    "    plot_aircraft(27200/42.74, 0.9, 'F-35B') # STOL, at takeoff (full fuel)\n",
    "    plot_aircraft(31800/42.74, 0.87, 'F-35A')  # CTOL, at takeoff (full fuel)\n",
    "    \n",
    "    plot_aircraft(286, 0.45, 'Learjet 31')\n",
    "    \n",
    "    # https://en.wikipedia.org/wiki/Embraer_Phenom_100\n",
    "    plot_aircraft(4800/12.3, (2*7.7e3/g)/4800, 'Phenom 100')\n",
    "    \n",
    "    # https://en.wikipedia.org/wiki/Cessna_Citation_X\n",
    "    plot_aircraft(16600/48.96, (2*31.29e3/g)/16600, 'Citation X')  # max takeoff weight\n",
    "\n",
    "    # design\n",
    "    opt_sol = solve(t_w_funcs, w_s_funcs)\n",
    "    m_S_d = opt_sol['W_S']/g\n",
    "    T_W_d = opt_sol['T_W']\n",
    "    plt.plot(m_S_d, T_W_d, 'r.', markersize=20, label='design point')\n",
    "    plt.text(m_S_d, T_W_d + 0.1, '({:0.3g}, {:0.3g})'.format(m_S_d, T_W_d))\n",
    "    plt.axis([0, m_S_max, 0, T_W_max])\n",
    "    \n",
    "    plt.legend(loc='upper right', ncol=2)"
   ]
  },
  {
   "cell_type": "code",
   "execution_count": 10,
   "metadata": {},
   "outputs": [
    {
     "data": {
      "image/png": "[encoded data removed]",
      "text/plain": [
       "<Figure size 1080x504 with 1 Axes>"
      ]
     },
     "metadata": {
      "needs_background": "light"
     },
     "output_type": "display_data"
    }
   ],
   "source": [
    "constraint_analysis(\n",
    "    t_w_funcs=[T_W_cruise, T_W_takeoff_distance, T_W_takeoff_distance_vectored, T_W_hover],\n",
    "    w_s_funcs=[W_S_landing]\n",
    ")"
   ]
  }
 ],
 "metadata": {
  "kernelspec": {
   "display_name": "Python 3",
   "language": "python",
   "name": "python3"
  },
  "language_info": {
   "codemirror_mode": {
    "name": "ipython",
    "version": 3
   },
   "file_extension": ".py",
   "mimetype": "text/x-python",
   "name": "python",
   "nbconvert_exporter": "python",
   "pygments_lexer": "ipython3",
   "version": "3.7.9"
  }
 },
 "nbformat": 4,
 "nbformat_minor": 4
}
