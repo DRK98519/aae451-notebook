{
 "cells": [
  {
   "cell_type": "code",
   "execution_count": 1,
   "metadata": {},
   "outputs": [],
   "source": [
    "import pandas as pd\n",
    "import matplotlib.pyplot as plt"
   ]
  },
  {
   "cell_type": "code",
   "execution_count": 3,
   "metadata": {},
   "outputs": [
    {
     "data": {
      "text/html": [
       "<div>\n",
       "<style scoped>\n",
       "    .dataframe tbody tr th:only-of-type {\n",
       "        vertical-align: middle;\n",
       "    }\n",
       "\n",
       "    .dataframe tbody tr th {\n",
       "        vertical-align: top;\n",
       "    }\n",
       "\n",
       "    .dataframe thead th {\n",
       "        text-align: right;\n",
       "    }\n",
       "</style>\n",
       "<table border=\"1\" class=\"dataframe\">\n",
       "  <thead>\n",
       "    <tr style=\"text-align: right;\">\n",
       "      <th></th>\n",
       "      <th>length [m]</th>\n",
       "      <th>cg [m]</th>\n",
       "      <th>wingspan [m]</th>\n",
       "      <th>wingarea [m^2]</th>\n",
       "      <th>drymass [kg]</th>\n",
       "      <th>allupmass [kg]</th>\n",
       "    </tr>\n",
       "    <tr>\n",
       "      <th>name</th>\n",
       "      <th></th>\n",
       "      <th></th>\n",
       "      <th></th>\n",
       "      <th></th>\n",
       "      <th></th>\n",
       "      <th></th>\n",
       "    </tr>\n",
       "  </thead>\n",
       "  <tbody>\n",
       "    <tr>\n",
       "      <th>ft_mini_se5</th>\n",
       "      <td>0.4760</td>\n",
       "      <td>0.0508</td>\n",
       "      <td>0.6096</td>\n",
       "      <td>0.170</td>\n",
       "      <td>0.2495</td>\n",
       "      <td>0.326</td>\n",
       "    </tr>\n",
       "    <tr>\n",
       "      <th>ft_mini_dr1</th>\n",
       "      <td>0.4950</td>\n",
       "      <td>0.0465</td>\n",
       "      <td>0.6182</td>\n",
       "      <td>0.213</td>\n",
       "      <td>0.2630</td>\n",
       "      <td>0.340</td>\n",
       "    </tr>\n",
       "    <tr>\n",
       "      <th>ft_mini_scout</th>\n",
       "      <td>0.4572</td>\n",
       "      <td>0.0440</td>\n",
       "      <td>0.6090</td>\n",
       "      <td>0.085</td>\n",
       "      <td>0.1150</td>\n",
       "      <td>0.165</td>\n",
       "    </tr>\n",
       "    <tr>\n",
       "      <th>ft_sparrow</th>\n",
       "      <td>0.4060</td>\n",
       "      <td>0.0445</td>\n",
       "      <td>0.7230</td>\n",
       "      <td>0.116</td>\n",
       "      <td>0.1870</td>\n",
       "      <td>0.256</td>\n",
       "    </tr>\n",
       "    <tr>\n",
       "      <th>ft_mini_arrow</th>\n",
       "      <td>0.4390</td>\n",
       "      <td>0.0445</td>\n",
       "      <td>0.7750</td>\n",
       "      <td>0.166</td>\n",
       "      <td>0.2180</td>\n",
       "      <td>0.245</td>\n",
       "    </tr>\n",
       "    <tr>\n",
       "      <th>ft_mini_mustang</th>\n",
       "      <td>0.4820</td>\n",
       "      <td>0.2500</td>\n",
       "      <td>0.6220</td>\n",
       "      <td>0.074</td>\n",
       "      <td>0.1560</td>\n",
       "      <td>0.222</td>\n",
       "    </tr>\n",
       "    <tr>\n",
       "      <th>ft_sportster</th>\n",
       "      <td>0.7620</td>\n",
       "      <td>0.0630</td>\n",
       "      <td>0.9900</td>\n",
       "      <td>0.245</td>\n",
       "      <td>0.4300</td>\n",
       "      <td>0.620</td>\n",
       "    </tr>\n",
       "    <tr>\n",
       "      <th>ft_sea_duck</th>\n",
       "      <td>1.0670</td>\n",
       "      <td>0.0640</td>\n",
       "      <td>1.3970</td>\n",
       "      <td>0.319</td>\n",
       "      <td>1.1110</td>\n",
       "      <td>1.301</td>\n",
       "    </tr>\n",
       "    <tr>\n",
       "      <th>ft_mini_super_bee</th>\n",
       "      <td>0.4950</td>\n",
       "      <td>0.0510</td>\n",
       "      <td>0.6350</td>\n",
       "      <td>0.117</td>\n",
       "      <td>0.3400</td>\n",
       "      <td>0.482</td>\n",
       "    </tr>\n",
       "  </tbody>\n",
       "</table>\n",
       "</div>"
      ],
      "text/plain": [
       "                   length [m]  cg [m]  wingspan [m]  wingarea [m^2]  \\\n",
       "name                                                                  \n",
       "ft_mini_se5            0.4760  0.0508        0.6096           0.170   \n",
       "ft_mini_dr1            0.4950  0.0465        0.6182           0.213   \n",
       "ft_mini_scout          0.4572  0.0440        0.6090           0.085   \n",
       "ft_sparrow             0.4060  0.0445        0.7230           0.116   \n",
       "ft_mini_arrow          0.4390  0.0445        0.7750           0.166   \n",
       "ft_mini_mustang        0.4820  0.2500        0.6220           0.074   \n",
       "ft_sportster           0.7620  0.0630        0.9900           0.245   \n",
       "ft_sea_duck            1.0670  0.0640        1.3970           0.319   \n",
       "ft_mini_super_bee      0.4950  0.0510        0.6350           0.117   \n",
       "\n",
       "                   drymass [kg]  allupmass [kg]  \n",
       "name                                             \n",
       "ft_mini_se5              0.2495           0.326  \n",
       "ft_mini_dr1              0.2630           0.340  \n",
       "ft_mini_scout            0.1150           0.165  \n",
       "ft_sparrow               0.1870           0.256  \n",
       "ft_mini_arrow            0.2180           0.245  \n",
       "ft_mini_mustang          0.1560           0.222  \n",
       "ft_sportster             0.4300           0.620  \n",
       "ft_sea_duck              1.1110           1.301  \n",
       "ft_mini_super_bee        0.3400           0.482  "
      ]
     },
     "execution_count": 3,
     "metadata": {},
     "output_type": "execute_result"
    }
   ],
   "source": [
    "data = pd.read_csv('data/aircraft_database.csv', index_col=0)\n",
    "data"
   ]
  },
  {
   "cell_type": "code",
   "execution_count": 6,
   "metadata": {},
   "outputs": [
    {
     "data": {
      "text/plain": [
       "name\n",
       "ft_mini_se5          18.792941\n",
       "ft_mini_dr1          15.643192\n",
       "ft_mini_scout        19.023529\n",
       "ft_sparrow           21.627586\n",
       "ft_mini_arrow        14.463855\n",
       "ft_mini_mustang      29.400000\n",
       "ft_sportster         24.800000\n",
       "ft_sea_duck          39.968025\n",
       "ft_mini_super_bee    40.372650\n",
       "Name: wing loading [N/m^2], dtype: float64"
      ]
     },
     "execution_count": 6,
     "metadata": {},
     "output_type": "execute_result"
    }
   ],
   "source": [
    "wing_loading = pd.Series(data['allupmass [kg]']/data['wingarea [m^2]'], name='wing loading [N/m^2]')*9.8\n",
    "wing_loading"
   ]
  },
  {
   "cell_type": "markdown",
   "metadata": {},
   "source": [
    "Would be helpful to know payload and thrust, but not provided. We can measure it for the mini scout."
   ]
  }
 ],
 "metadata": {
  "kernelspec": {
   "display_name": "Python 3",
   "language": "python",
   "name": "python3"
  },
  "language_info": {
   "codemirror_mode": {
    "name": "ipython",
    "version": 3
   },
   "file_extension": ".py",
   "mimetype": "text/x-python",
   "name": "python",
   "nbconvert_exporter": "python",
   "pygments_lexer": "ipython3",
   "version": "3.7.9"
  }
 },
 "nbformat": 4,
 "nbformat_minor": 4
}
