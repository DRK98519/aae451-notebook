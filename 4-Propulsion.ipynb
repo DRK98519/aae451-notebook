{
 "cells": [
  {
   "cell_type": "markdown",
   "metadata": {},
   "source": [
    "# Plotting UIUC Propeller Data"
   ]
  },
  {
   "cell_type": "code",
   "execution_count": 1,
   "metadata": {},
   "outputs": [],
   "source": [
    "import prop_uiuc\n",
    "import matplotlib.pyplot as plt\n",
    "prop_db = prop_uiuc.parse_database(False)"
   ]
  },
  {
   "cell_type": "markdown",
   "metadata": {},
   "source": [
    "You can choose to analyze any of the props listed below:"
   ]
  },
  {
   "cell_type": "code",
   "execution_count": 2,
   "metadata": {},
   "outputs": [
    {
     "data": {
      "text/plain": [
       "dict_keys(['apce_11x8', 'grsn_10x7', 'mas_9x7', 'ma_9x8', 'grcsp_9x5', 'gwssf_11x8', 'ma_11x9', 'apcsp_10x7', 'grcp_9x4', 'apcsp_9x10', 'apce_19x12', 'apcsp_10x5', 'grcp_11x8', 'kyosho_10x7', 'apcsp_9x7', 'mas_11x7', 'grsn_9x6', 'magf_9x4', 'magf_11x8', 'ma_11x10', 'apcsp_8x10', 'apce_8x8', 'apcsp_7x6', 'gwssf_11x4.7', 'mae_9x6', 'apccf_7.4x8.25', 'apcsf_9x3.8', 'gwssf_10x8', 'apcsp_11x4', 'grsn_11x7', 'mas_10x7', 'ma_9x4', 'grsn_10x6', 'apcsf_10x7', 'apcsf_9x7.5', 'grsn_9x7', 'grsn_11x10', 'apcsp_10x4', 'ma_11x8', 'apc29ff_9x4', 'apce_9x4.5', 'apce_11x10', 'apce_9x7.5', 'apcsp_8x7', 'zin_9x6', 'kyosho_11x9', 'magf_9x5', 'mas_10x5', 'gwsdd_9x5', 'gwssf_9x7', 'apce_14x12', 'magf_9x7', 'apccf_7.8x6', 'kavfk_11x7.75', 'kyosho_9x6', 'gwsdd_10x6', 'grcsp_10x8', 'apcsf_11x3.8', 'magf_11x5', 'ance_8.5x7', 'gwssf_8x4.3', 'apcsf_11x7', 'mae_10x7', 'magf_11x4', 'apce_11x5.5', 'grsn_9x5', 'ma_11x7', 'apcsp_11x7', 'magf_10x6', 'apcsp_8x8', 'apcsp_10x9', 'apcsp_11x8', 'grcp_10x6', 'apce_10x5', 'gwsdd_11x7', 'mas_9x5', 'apccf_7.8x7', 'kyosho_11x7', 'apce_11x7', 'grcp_9x6', 'apcsp_11x9', 'grcsp_9x6', 'grcsp_10x6', 'apcsp_14x13', 'apcsp_10x6', 'gwssf_10x4.7', 'apcsf_10x4.7', 'grcp_10x8', 'grcp_11x6', 'mas_11x8', 'apcsp_8x4', 'grsn_11x6', 'apce_9x9', 'apcsp_10x8', 'magf_7x4', 'mas_9x6', 'apcsp_11x6', 'apcsp_9x9', 'magf_8x4', 'apce_9x6', 'gwssf_8x6', 'apce_11x8.5', 'apcsp_9x6', 'apcsp_10x3', 'mae_11x7', 'mas_11x6', 'apcsp_8x9', 'kavfk_9x6', 'magf_10x8', 'apcsf_11x4.7', 'ma_11x6', 'grsn_11x8', 'ance_8.5x6', 'grsn_9x4', 'apcsf_8x6', 'apce_8x6', 'apcsp_11x3', 'apcsf_9x4.7', 'zin_11x7', 'apce_10x7', 'apcsp_8x5', 'apcsp_10x10', 'apcsf_9x6', 'apce_8x4', 'kyosho_10x6', 'kavfk_9x4', 'ma_9x6', 'apcsp_7x9', 'apc29ff_9x5', 'apcsp_8x6', 'ma_11x4', 'apcsp_11x5', 'apcsp_9x8', 'gwssf_9x4.7', 'rusp_11x4', 'grcp_11x4', 'apcsf_8x3.8', 'apce_17x12', 'kavfk_11x6'])"
      ]
     },
     "execution_count": 2,
     "metadata": {},
     "output_type": "execute_result"
    }
   ],
   "source": [
    "prop_db.keys()"
   ]
  },
  {
   "cell_type": "code",
   "execution_count": 3,
   "metadata": {},
   "outputs": [
    {
     "ename": "NameError",
     "evalue": "name 'plot_static_CP' is not defined",
     "output_type": "error",
     "traceback": [
      "\u001b[0;31m---------------------------------------------------------------------------\u001b[0m",
      "\u001b[0;31mNameError\u001b[0m                                 Traceback (most recent call last)",
      "\u001b[0;32m<ipython-input-3-59cd014cc68a>\u001b[0m in \u001b[0;36m<module>\u001b[0;34m\u001b[0m\n\u001b[1;32m     10\u001b[0m     \u001b[0mplt\u001b[0m\u001b[0;34m.\u001b[0m\u001b[0mgrid\u001b[0m\u001b[0;34m(\u001b[0m\u001b[0;32mTrue\u001b[0m\u001b[0;34m)\u001b[0m\u001b[0;34m\u001b[0m\u001b[0;34m\u001b[0m\u001b[0m\n\u001b[1;32m     11\u001b[0m \u001b[0;34m\u001b[0m\u001b[0m\n\u001b[0;32m---> 12\u001b[0;31m \u001b[0mplot_static_CP\u001b[0m\u001b[0;34m(\u001b[0m\u001b[0;34m[\u001b[0m\u001b[0;34m'apce_11x8'\u001b[0m\u001b[0;34m,\u001b[0m \u001b[0;34m'mas_9x7'\u001b[0m\u001b[0;34m,\u001b[0m \u001b[0;34m'kyosho_10x7'\u001b[0m\u001b[0;34m]\u001b[0m\u001b[0;34m)\u001b[0m\u001b[0;34m\u001b[0m\u001b[0;34m\u001b[0m\u001b[0m\n\u001b[0m",
      "\u001b[0;31mNameError\u001b[0m: name 'plot_static_CP' is not defined"
     ]
    }
   ],
   "source": [
    "def plot_static_CT(prop_list):\n",
    "    fig = plt.figure()\n",
    "    for prop in prop_list:\n",
    "        d = prop_db[prop]['static']['data']\n",
    "        plt.plot(d.index, d.CT, label=prop)\n",
    "    plt.legend()\n",
    "    plt.title('Static Test: CT')\n",
    "    plt.xlabel('RPM')\n",
    "    plt.ylabel('CT')\n",
    "    plt.grid(True)\n",
    "\n",
    "plot_static_CP(['apce_11x8', 'mas_9x7', 'kyosho_10x7'])"
   ]
  },
  {
   "cell_type": "code",
   "execution_count": null,
   "metadata": {},
   "outputs": [],
   "source": [
    "def plot_static_CP(prop_list):\n",
    "    fig = plt.figure()\n",
    "    for prop in prop_list:\n",
    "        d = prop_db[prop]['static']['data']\n",
    "        plt.plot(d.index, d.CP, label=prop)\n",
    "    plt.legend()\n",
    "    plt.title('Static Test: CP')\n",
    "    plt.xlabel('RPM')\n",
    "    plt.ylabel('CP')\n",
    "    plt.grid(True)\n",
    "\n",
    "plot_static_CP(['apce_11x8', 'mas_9x7', 'kyosho_10x7'])"
   ]
  },
  {
   "cell_type": "code",
   "execution_count": null,
   "metadata": {},
   "outputs": [],
   "source": [
    "def plot_efficiency(prop):\n",
    "    \"\"\"\n",
    "    Plots the efficiency of the prop vs. advance ratio\n",
    "    for various RPM.\n",
    "    \"\"\"\n",
    "    fig = plt.figure()\n",
    "    dyn_cases = prop_db[prop]['dynamic']\n",
    "    for rpm in sorted(dyn_cases.keys()):\n",
    "        d = dyn_cases[rpm]['data']\n",
    "        plt.plot(d.index, d.eta, label='RPM={:g}'.format(rpm))\n",
    "    plt.legend(ncol=2)\n",
    "    plt.title('Dynamic Test: Efficiency')\n",
    "    plt.xlabel('J')\n",
    "    plt.ylabel('$\\eta$')\n",
    "    plt.grid(True)\n",
    "    \n",
    "plot_efficiency('apce_11x8')"
   ]
  }
 ],
 "metadata": {
  "kernelspec": {
   "display_name": "Python 3",
   "language": "python",
   "name": "python3"
  },
  "language_info": {
   "codemirror_mode": {
    "name": "ipython",
    "version": 3
   },
   "file_extension": ".py",
   "mimetype": "text/x-python",
   "name": "python",
   "nbconvert_exporter": "python",
   "pygments_lexer": "ipython3",
   "version": "3.7.6"
  }
 },
 "nbformat": 4,
 "nbformat_minor": 4
}
